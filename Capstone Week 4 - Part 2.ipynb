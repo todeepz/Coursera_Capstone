{
 "cells": [
  {
   "cell_type": "markdown",
   "metadata": {
    "collapsed": true
   },
   "source": [
    "### What's the best place to open an Italian restaurant in Toronto"
   ]
  },
  {
   "cell_type": "markdown",
   "metadata": {},
   "source": [
    "### Table of Contents\n",
    "#### 1.Introduction\n",
    "#### 2.Target Audience\n",
    "#### 3.Data Overview\n",
    "#### 4.Methodology\n",
    "#### 5.Discussion\n",
    "#### 6.Conclusion"
   ]
  },
  {
   "cell_type": "markdown",
   "metadata": {},
   "source": [
    "### 1. Identifying the Business Problem (Introduction):\n",
    "Toronto is one of the most densely populated areas in Canada with an estimated population of over 6 million, there is no doubt about the diversity of the population. \n",
    "\n",
    "The objective of this project is to determine the best neighbourhood in Toronto for opening an Italian restaurant leveraging Foursquare API. Pizza and Pasta are one of the most bought dishes in Toronto originating from Italy. Toronto is the fourth largest home to Italians with a population of over 500k, there are numerous opportunities to open a new Italian restaurant. Through this project, we will find the most suitable location for an entrepreneur to open a new Italian restaurant in Toronto, Canada."
   ]
  },
  {
   "cell_type": "markdown",
   "metadata": {},
   "source": [
    "### 2. Target Audience:\n",
    "This project is aimed towards entrepreneurs or franchise owners who wish to find the ideal location for opening their Italian restaurant in Toronto."
   ]
  },
  {
   "cell_type": "markdown",
   "metadata": {},
   "source": [
    "### 3. Data Overview:\n",
    "The data that will be required will be a combination of CSV files that have been prepared for the purposes of the analysis from multiple sources which will provide the list of neighbourhoods in Toronto (via Wikipedia), the Geographical location of the neighbourhoods (via Geocoder package) and Venue data pertaining to Italian restaurants (via Foursquare). The Venue data will help find which neighbourhood is best suitable to open an Italian restaurant.\n",
    "\n",
    "Data will be sourced from\n",
    "1. WIKI Page - https://en.wikipedia.org/wiki/List_of_postal_codes_of_Canada:_M\n",
    "2. Geocoder Geographical location - https://cocl.us/Geospatial_data\n",
    "3. Venue data using Foursquare API"
   ]
  },
  {
   "cell_type": "markdown",
   "metadata": {},
   "source": [
    "### 4. Methodology:\n",
    "\n",
    "After all the data was collected and put into data frames, cleansing and merging of the data was required to start the process of analysis. When getting the data from Wikipedia, there were Boroughs that were not assigned to any neighbourhood therefore, the following assumptions were made:\n",
    "1. Only the cells that have an assigned borough will be processed. Borough’s that were not assigned get ignored.\n",
    "2. More than one neighbourhood can exist in one postal code area.\n",
    "3. If a cell has a borough but a Not assigned neighbourhood, then the neighbourhood will be the same as the borough.\n",
    "4. Now after cleansing the data, we created a map using Folium and colour-coded each Neighborhood depending on what Borough it was located in to analyze the data.\n",
    "5. Next, we used the Foursquare API to get a list of all the Venues in Toronto which included Parks, Schools, Café Shops, Asian Restaurants etc. Getting this data was crucial to analyzing the number of Italian Restaurants all over Toronto. There was a total of 45 Italian Restaurants in Toronto. We then merged the Foursquare Venue data with the Neighborhood data which then gave us the nearest Venue for each of the Neighborhoods."
   ]
  },
  {
   "cell_type": "code",
   "execution_count": null,
   "metadata": {},
   "outputs": [],
   "source": []
  }
 ],
 "metadata": {
  "kernelspec": {
   "display_name": "Python 3.7",
   "language": "python",
   "name": "python3"
  },
  "language_info": {
   "codemirror_mode": {
    "name": "ipython",
    "version": 3
   },
   "file_extension": ".py",
   "mimetype": "text/x-python",
   "name": "python",
   "nbconvert_exporter": "python",
   "pygments_lexer": "ipython3",
   "version": "3.7.10"
  }
 },
 "nbformat": 4,
 "nbformat_minor": 1
}
